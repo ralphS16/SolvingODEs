{
 "cells": [
  {
   "cell_type": "markdown",
   "metadata": {},
   "source": [
    "# Solving an IVP\n",
    "We consider an IVP of the form $y'' = g(t)-\\alpha y$ with $y(0) = v_0$ and $y'(0) = v'_0$. The independent variable is time ($t$) and we want to discretize to avoid working with a continuum amount of values. Hence, we set a time quantum $\\varepsilon$ to be a small time interval and consider the equation on values that are multiples of the quantum. If the quantum is small enough, the following equations will be a good approximation of the problem (they can be derived from the derivative and second derivative definitions).\n",
    "$$ \\begin{align*}\n",
    "       y'(k\\varepsilon) &= \\frac{y(k\\varepsilon) - y((k-1)\\varepsilon)}{\\varepsilon} &&\\mbox{(backward difference)}\\\\\n",
    "       y''(k\\varepsilon) &= \\frac{y((k+1)\\varepsilon) - 2y(k\\varepsilon) + y((k-1)\\varepsilon)}{\\varepsilon^2} &&\\mbox{(center difference)}\n",
    "\\end{align*} $$\n",
    "\n",
    "For simplicity, we will write $y_{k} := y(k\\varepsilon)$, we then rewrite the second equation. $$y''(k\\varepsilon) = \\frac{y_{k+1} - 2y_{k} + y_{k-1}}{\\varepsilon^2}$$\n",
    "\n",
    "If we use this in our differential equation, we get a recurrence formula for $y_k$.\n",
    "$$ \\begin{align*}\n",
    "y''(k\\varepsilon) = \\frac{y_{k+1} - 2y_{k} + y_{k-1}}{\\varepsilon^2} &= g(k\\varepsilon) - \\alpha y_k\\\\\n",
    "y_{k+1} - 2y_{k} + y_{k-1} &= \\varepsilon^2(g(k\\varepsilon) - \\alpha y_k)\\\\\n",
    "y_{k+1} &= (2-\\alpha\\varepsilon^2)y_k -y_{k-1} + \\varepsilon^2\\cdot g(k\\varepsilon)\n",
    "\\end{align*} $$\n",
    "\n",
    "The initial values give us the start of this problem, in our case, we have $y_0 = v_0$ and $y_1 = v_0 + v'_0\\varepsilon$. Now, we can solve the recurrence using forward substitution.\n",
    "\n",
    "The following code implements this IVP solver. The specific IVP we are solving has $\\alpha = \\frac{g}{\\ell}$ and $g(t) = \\frac{1}{2}\\mu\\cdot S(t) + v^2(t) \\cdot Cx + \\frac{1}{m\\cdot \\ell}$ for some functions $S$ and $v^2$. It is modelling the motion of a cable car on its cable with known wind behaviour. The original formula was the following.\n",
    "$$ \\ddot{\\theta} + \\frac{g}{\\ell}\\theta = \\frac{1}{2}\\mu\\cdot S(t) + v^2(t) \\cdot Cx + \\frac{1}{m\\cdot \\ell} $$"
   ]
  },
  {
   "cell_type": "code",
   "execution_count": 2,
   "metadata": {
    "collapsed": false
   },
   "outputs": [
    {
     "data": {
      "image/png": "[encoded data removed]",
      "text/plain": [
       "<matplotlib.figure.Figure at 0x1bac683a128>"
      ]
     },
     "metadata": {},
     "output_type": "display_data"
    }
   ],
   "source": [
    "## - Modules - ##\n",
    "import numpy as np\n",
    "import matplotlib.pyplot as plt\n",
    "\n",
    "## - Constants - ##\n",
    "t_end = 10 # ending time of the simulation (t_start = 0)\n",
    "steps = 500\n",
    "domain = np.linspace(0,t_end,steps)\n",
    "eps = t_end/steps # value of epsilon (the time quantum)\n",
    "epsq = eps*eps # epsilon^2\n",
    "teta0=17\n",
    "petitomega=2\n",
    "omega0=20\n",
    "grandomega=5\n",
    "m=0.225\n",
    "L=0.17\n",
    "J=5\n",
    "alpha = -1*pow(omega0,2)\n",
    "\n",
    "## - Defining functions - ##\n",
    "def g1(t):\n",
    "    return np.cos(petitomega*t)*teta0*(petitomega**2-omega0**2)\n",
    "    \n",
    "def g2(t):\n",
    "    return m*(pow(L,2))*(pow(petitomega,3))*(pow(teta0,3))*np.sin(petitomega*t)/J\n",
    "    \n",
    "def g3(t):\n",
    "    return (1/(grandomega**2-4*petitomega**2))*2*petitomega*(np.cos(grandomega*t)-np.cos(2*petitomega*t))\n",
    "    \n",
    "def g4(t):\n",
    "    return (1/(grandomega**2-petitomega**2))*np.cos(petitomega*t)*(grandomega*np.sin(grandomega*t)-petitomega*np.sin(petitomega*t))\n",
    "def g(t):\n",
    "    # This is the function g(t)*epsilon^2\n",
    "    return g1(t)+g2(t)*(g3(t)+g4(t))\n",
    "\n",
    "g_values = list(map(g, domain)) # these are the values of eps^2 * g(t) that we will need\n",
    "\n",
    "def recSolver(a,b,constants, v_0, v_1):\n",
    "    # solves a recurrence of the type y_(k+1) = ay_k + b_(k-1) + c_k with y_0 = v_0 and y_1 = v_1\n",
    "    values = [v_0, v_1] # initial values\n",
    "    for i in range(2, len(constants)): # iterate from y_2 to y_n, n is the last constant c_n we have\n",
    "        y_next = values[-1]*a + values[-2]*b + epsq*constants[i-1] #computes next value\n",
    "        values.append(y_next) # adds it to the list\n",
    "    return values # return the list of values we found\n",
    "\n",
    "solution = recSolver(2-alpha*epsq, -1,g_values, 0, 0.5)\n",
    "#plotting the solution\n",
    "plt.plot(domain, list(map(float,solution)))\n",
    "plt.show()"
   ]
  },
  {
   "cell_type": "code",
   "execution_count": null,
   "metadata": {
    "collapsed": true
   },
   "outputs": [],
   "source": []
  }
 ],
 "metadata": {
  "anaconda-cloud": {},
  "kernelspec": {
   "display_name": "Python [default]",
   "language": "python",
   "name": "python3"
  },
  "language_info": {
   "codemirror_mode": {
    "name": "ipython",
    "version": 3
   },
   "file_extension": ".py",
   "mimetype": "text/x-python",
   "name": "python",
   "nbconvert_exporter": "python",
   "pygments_lexer": "ipython3",
   "version": "3.5.2"
  }
 },
 "nbformat": 4,
 "nbformat_minor": 1
}
