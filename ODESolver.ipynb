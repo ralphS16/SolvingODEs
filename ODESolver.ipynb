{
 "cells": [
  {
   "cell_type": "markdown",
   "metadata": {},
   "source": [
    "# Solving an IVP\n",
    "We consider an IVP of the form $y'' = g(t)-\\alpha y$ with $y(0) = v_0$ and $y'(0) = v'_0$. The independent variable is time ($t$) and we want to discretize to avoid working with a continuum amount of values. Hence, we set a time quantum $\\varepsilon$ to be a small time interval and consider the equation on values that are multiples of the quantum. If the quantum is small enough, the following equations will be a good approximation of the problem (they can be derived from the derivative and second derivative definitions).\n",
    "$$ \\begin{align*}\n",
    "       y'(k\\varepsilon) &= \\frac{y(k\\varepsilon) - y((k-1)\\varepsilon)}{\\varepsilon} &&\\mbox{(backward difference)}\\\\\n",
    "       y''(k\\varepsilon) &= \\frac{y((k+1)\\varepsilon) - 2y(k\\varepsilon) + y((k-1)\\varepsilon)}{\\varepsilon^2} &&\\mbox{(center difference)}\n",
    "\\end{align*} $$\n",
    "\n",
    "For simplicity, we will write $y_{k} := y(k\\varepsilon)$, we then rewrite the second equation. $$y''(k\\varepsilon) = \\frac{y_{k+1} - 2y_{k} + y_{k-1}}{\\varepsilon^2}$$\n",
    "\n",
    "If we use this in our differential equation, we get a recurrence formula for $y_k$.\n",
    "$$ \\begin{align*}\n",
    "y''(k\\varepsilon) = \\frac{y_{k+1} - 2y_{k} + y_{k-1}}{\\varepsilon^2} &= g(k\\varepsilon) - \\alpha y_k\\\\\n",
    "y_{k+1} - 2y_{k} + y_{k-1} &= \\varepsilon^2(g(k\\varepsilon) - \\alpha y_k)\\\\\n",
    "y_{k+1} &= (2-\\alpha\\varepsilon^2)y_k -y_{k-1} + \\varepsilon^2\\cdot g(k\\varepsilon)\n",
    "\\end{align*} $$\n",
    "\n",
    "The initial values give us the start of this problem, in our case, we have $y_0 = v_0$ and $y_1 = v_0 + v'_0\\varepsilon$. Now, we can solve the recurrence using forward substitution.\n",
    "\n",
    "The following code implements this IVP solver. The specific IVP we are solving has $\\alpha = \\frac{g}{\\ell}$ and $g(t) = \\frac{1}{2}\\mu\\cdot S(t) + v^2(t) \\cdot Cx + \\frac{1}{m\\cdot \\ell}$ for some functions $S$ and $v^2$. It is modelling the motion of a cable car on its cable with known wind behaviour. The original formula was the following.\n",
    "$$ \\ddot{\\theta} + \\frac{g}{\\ell}\\theta = \\frac{1}{2}\\mu\\cdot S(t) + v^2(t) \\cdot Cx + \\frac{1}{m\\cdot \\ell} $$"
   ]
  },
  {
   "cell_type": "code",
   "execution_count": 25,
   "metadata": {
    "collapsed": false
   },
   "outputs": [
    {
     "name": "stdout",
     "output_type": "stream",
     "text": [
      "[ 0.          0.01010101  0.02020202  0.03030303  0.04040404  0.05050505\n",
      "  0.06060606  0.07070707  0.08080808  0.09090909  0.1010101   0.11111111\n",
      "  0.12121212  0.13131313  0.14141414  0.15151515  0.16161616  0.17171717\n",
      "  0.18181818  0.19191919  0.2020202   0.21212121  0.22222222  0.23232323\n",
      "  0.24242424  0.25252525  0.26262626  0.27272727  0.28282828  0.29292929\n",
      "  0.3030303   0.31313131  0.32323232  0.33333333  0.34343434  0.35353535\n",
      "  0.36363636  0.37373737  0.38383838  0.39393939  0.4040404   0.41414141\n",
      "  0.42424242  0.43434343  0.44444444  0.45454545  0.46464646  0.47474747\n",
      "  0.48484848  0.49494949  0.50505051  0.51515152  0.52525253  0.53535354\n",
      "  0.54545455  0.55555556  0.56565657  0.57575758  0.58585859  0.5959596\n",
      "  0.60606061  0.61616162  0.62626263  0.63636364  0.64646465  0.65656566\n",
      "  0.66666667  0.67676768  0.68686869  0.6969697   0.70707071  0.71717172\n",
      "  0.72727273  0.73737374  0.74747475  0.75757576  0.76767677  0.77777778\n",
      "  0.78787879  0.7979798   0.80808081  0.81818182  0.82828283  0.83838384\n",
      "  0.84848485  0.85858586  0.86868687  0.87878788  0.88888889  0.8989899\n",
      "  0.90909091  0.91919192  0.92929293  0.93939394  0.94949495  0.95959596\n",
      "  0.96969697  0.97979798  0.98989899  1.        ] [0.1, -0.005, -0.78326160974181158, -2.2655002725077344, -4.5103142047395544, -7.6065287753177167, -11.676750098115965, -16.882269979792561, -23.429518418814645, -31.578321753600104, -41.652296783477752, -54.051796624945915, -69.26992613500299, -87.912267515904247, -110.72110512287108, -138.60511846432848, -172.6757311118977, -214.29156947372852, -265.11280977927527, -327.16758715208152, -402.93312313068094, -495.43481673568601, -608.36726272303906, -746.24203775092064, -914.56816590444589, -1120.072482196693, -1370.9687085837816, -1677.2860055324093, -2051.2701412004994, -2507.8733249962861, -3065.3522988564646, -3745.9986098929712, -4577.0302753128726, -5591.6805062069507, -6830.5270391575023, -8343.1152489288252, -10189.939966747357, -12444.865276902196, -15198.079083529719, -18559.700630253581, -22664.185273465693, -27675.702700179685, -33794.703719171252, -41265.938297051551, -50388.245560717121, -61526.507366275066, -75126.243577201298, -91731.432862858986, -112006.27184931898, -136761.74298851582, -166988.0538605068, -203894.24548092514, -248956.55394592651, -303977.45988042775, -371157.78766756784, -453184.7384285708, -553339.37807220547, -675627.87993582082, -824941.77172359917, -1007253.5966195569, -1229855.8150198141, -1501652.502953422, -1833515.515128582, -2238719.359126104, -2733472.1757078446, -3337564.0644524535, -4075158.6877438668, -4975759.8172720792, -6075391.4849062255, -7418038.9439748907, -9057408.0794048626, -11059073.643123871, -13503102.244143425, -16487255.012925049, -20130898.04660457, -24579777.052883428, -30011847.178342655, -36644391.214312077, -44742710.90852946, -54630739.035056077, -66703996.705245174, -81445414.212202191, -99444648.242515013, -121421668.14372358, -148255554.69822755, -181019663.35458842, -221024558.44547802, -269870435.76099145, -329511130.38025695, -402332270.0746069, -491246700.41843718, -599810998.61218905, -732367736.57037258, -894219183.79815316, -1091839398.1715631, -1333133188.2525501, -1627752305.6314595, -1987481514.9906538, -2426709984.6918135, -2963006853.5104089]\n"
     ]
    },
    {
     "name": "stderr",
     "output_type": "stream",
     "text": [
      "C:\\Program Files\\Anaconda3\\lib\\site-packages\\matplotlib\\ticker.py:1424: RuntimeWarning: invalid value encountered in double_scalars\n",
      "  extra_bins = int(divmod((best_vmax - vmax), step)[0])\n"
     ]
    },
    {
     "ename": "ValueError",
     "evalue": "cannot convert float NaN to integer",
     "output_type": "error",
     "traceback": [
      "\u001b[0;31m---------------------------------------------------------------------------\u001b[0m",
      "\u001b[0;31mValueError\u001b[0m                                Traceback (most recent call last)",
      "\u001b[0;32m<ipython-input-25-b4c4aa8487b4>\u001b[0m in \u001b[0;36m<module>\u001b[0;34m()\u001b[0m\n\u001b[1;32m     47\u001b[0m \u001b[0mprint\u001b[0m\u001b[1;33m(\u001b[0m\u001b[0mdomain\u001b[0m\u001b[1;33m,\u001b[0m\u001b[0msolution\u001b[0m\u001b[1;33m)\u001b[0m\u001b[1;33m\u001b[0m\u001b[0m\n\u001b[1;32m     48\u001b[0m \u001b[1;31m#plotting the solution\u001b[0m\u001b[1;33m\u001b[0m\u001b[1;33m\u001b[0m\u001b[0m\n\u001b[0;32m---> 49\u001b[0;31m \u001b[0mplt\u001b[0m\u001b[1;33m.\u001b[0m\u001b[0mplot\u001b[0m\u001b[1;33m(\u001b[0m\u001b[0mdomain\u001b[0m\u001b[1;33m,\u001b[0m \u001b[0mlist\u001b[0m\u001b[1;33m(\u001b[0m\u001b[0mmap\u001b[0m\u001b[1;33m(\u001b[0m\u001b[0mfloat\u001b[0m\u001b[1;33m,\u001b[0m\u001b[0msolution\u001b[0m\u001b[1;33m)\u001b[0m\u001b[1;33m)\u001b[0m\u001b[1;33m)\u001b[0m\u001b[1;33m\u001b[0m\u001b[0m\n\u001b[0m\u001b[1;32m     50\u001b[0m \u001b[0mplt\u001b[0m\u001b[1;33m.\u001b[0m\u001b[0mshow\u001b[0m\u001b[1;33m(\u001b[0m\u001b[1;33m)\u001b[0m\u001b[1;33m\u001b[0m\u001b[0m\n",
      "\u001b[0;32mC:\\Program Files\\Anaconda3\\lib\\site-packages\\matplotlib\\pyplot.py\u001b[0m in \u001b[0;36mplot\u001b[0;34m(*args, **kwargs)\u001b[0m\n\u001b[1;32m   3159\u001b[0m         \u001b[0max\u001b[0m\u001b[1;33m.\u001b[0m\u001b[0mhold\u001b[0m\u001b[1;33m(\u001b[0m\u001b[0mhold\u001b[0m\u001b[1;33m)\u001b[0m\u001b[1;33m\u001b[0m\u001b[0m\n\u001b[1;32m   3160\u001b[0m     \u001b[1;32mtry\u001b[0m\u001b[1;33m:\u001b[0m\u001b[1;33m\u001b[0m\u001b[0m\n\u001b[0;32m-> 3161\u001b[0;31m         \u001b[0mret\u001b[0m \u001b[1;33m=\u001b[0m \u001b[0max\u001b[0m\u001b[1;33m.\u001b[0m\u001b[0mplot\u001b[0m\u001b[1;33m(\u001b[0m\u001b[1;33m*\u001b[0m\u001b[0margs\u001b[0m\u001b[1;33m,\u001b[0m \u001b[1;33m**\u001b[0m\u001b[0mkwargs\u001b[0m\u001b[1;33m)\u001b[0m\u001b[1;33m\u001b[0m\u001b[0m\n\u001b[0m\u001b[1;32m   3162\u001b[0m     \u001b[1;32mfinally\u001b[0m\u001b[1;33m:\u001b[0m\u001b[1;33m\u001b[0m\u001b[0m\n\u001b[1;32m   3163\u001b[0m         \u001b[0max\u001b[0m\u001b[1;33m.\u001b[0m\u001b[0mhold\u001b[0m\u001b[1;33m(\u001b[0m\u001b[0mwashold\u001b[0m\u001b[1;33m)\u001b[0m\u001b[1;33m\u001b[0m\u001b[0m\n",
      "\u001b[0;32mC:\\Program Files\\Anaconda3\\lib\\site-packages\\matplotlib\\__init__.py\u001b[0m in \u001b[0;36minner\u001b[0;34m(ax, *args, **kwargs)\u001b[0m\n\u001b[1;32m   1816\u001b[0m                     warnings.warn(msg % (label_namer, func.__name__),\n\u001b[1;32m   1817\u001b[0m                                   RuntimeWarning, stacklevel=2)\n\u001b[0;32m-> 1818\u001b[0;31m             \u001b[1;32mreturn\u001b[0m \u001b[0mfunc\u001b[0m\u001b[1;33m(\u001b[0m\u001b[0max\u001b[0m\u001b[1;33m,\u001b[0m \u001b[1;33m*\u001b[0m\u001b[0margs\u001b[0m\u001b[1;33m,\u001b[0m \u001b[1;33m**\u001b[0m\u001b[0mkwargs\u001b[0m\u001b[1;33m)\u001b[0m\u001b[1;33m\u001b[0m\u001b[0m\n\u001b[0m\u001b[1;32m   1819\u001b[0m         \u001b[0mpre_doc\u001b[0m \u001b[1;33m=\u001b[0m \u001b[0minner\u001b[0m\u001b[1;33m.\u001b[0m\u001b[0m__doc__\u001b[0m\u001b[1;33m\u001b[0m\u001b[0m\n\u001b[1;32m   1820\u001b[0m         \u001b[1;32mif\u001b[0m \u001b[0mpre_doc\u001b[0m \u001b[1;32mis\u001b[0m \u001b[1;32mNone\u001b[0m\u001b[1;33m:\u001b[0m\u001b[1;33m\u001b[0m\u001b[0m\n",
      "\u001b[0;32mC:\\Program Files\\Anaconda3\\lib\\site-packages\\matplotlib\\axes\\_axes.py\u001b[0m in \u001b[0;36mplot\u001b[0;34m(self, *args, **kwargs)\u001b[0m\n\u001b[1;32m   1384\u001b[0m             \u001b[0mlines\u001b[0m\u001b[1;33m.\u001b[0m\u001b[0mappend\u001b[0m\u001b[1;33m(\u001b[0m\u001b[0mline\u001b[0m\u001b[1;33m)\u001b[0m\u001b[1;33m\u001b[0m\u001b[0m\n\u001b[1;32m   1385\u001b[0m \u001b[1;33m\u001b[0m\u001b[0m\n\u001b[0;32m-> 1386\u001b[0;31m         \u001b[0mself\u001b[0m\u001b[1;33m.\u001b[0m\u001b[0mautoscale_view\u001b[0m\u001b[1;33m(\u001b[0m\u001b[0mscalex\u001b[0m\u001b[1;33m=\u001b[0m\u001b[0mscalex\u001b[0m\u001b[1;33m,\u001b[0m \u001b[0mscaley\u001b[0m\u001b[1;33m=\u001b[0m\u001b[0mscaley\u001b[0m\u001b[1;33m)\u001b[0m\u001b[1;33m\u001b[0m\u001b[0m\n\u001b[0m\u001b[1;32m   1387\u001b[0m         \u001b[1;32mreturn\u001b[0m \u001b[0mlines\u001b[0m\u001b[1;33m\u001b[0m\u001b[0m\n\u001b[1;32m   1388\u001b[0m \u001b[1;33m\u001b[0m\u001b[0m\n",
      "\u001b[0;32mC:\\Program Files\\Anaconda3\\lib\\site-packages\\matplotlib\\axes\\_base.py\u001b[0m in \u001b[0;36mautoscale_view\u001b[0;34m(self, tight, scalex, scaley)\u001b[0m\n\u001b[1;32m   2190\u001b[0m                 \u001b[0my1\u001b[0m \u001b[1;33m+=\u001b[0m \u001b[0mdelta\u001b[0m\u001b[1;33m\u001b[0m\u001b[0m\n\u001b[1;32m   2191\u001b[0m             \u001b[1;32mif\u001b[0m \u001b[1;32mnot\u001b[0m \u001b[0m_tight\u001b[0m\u001b[1;33m:\u001b[0m\u001b[1;33m\u001b[0m\u001b[0m\n\u001b[0;32m-> 2192\u001b[0;31m                 \u001b[0my0\u001b[0m\u001b[1;33m,\u001b[0m \u001b[0my1\u001b[0m \u001b[1;33m=\u001b[0m \u001b[0mylocator\u001b[0m\u001b[1;33m.\u001b[0m\u001b[0mview_limits\u001b[0m\u001b[1;33m(\u001b[0m\u001b[0my0\u001b[0m\u001b[1;33m,\u001b[0m \u001b[0my1\u001b[0m\u001b[1;33m)\u001b[0m\u001b[1;33m\u001b[0m\u001b[0m\n\u001b[0m\u001b[1;32m   2193\u001b[0m             \u001b[0mself\u001b[0m\u001b[1;33m.\u001b[0m\u001b[0mset_ybound\u001b[0m\u001b[1;33m(\u001b[0m\u001b[0my0\u001b[0m\u001b[1;33m,\u001b[0m \u001b[0my1\u001b[0m\u001b[1;33m)\u001b[0m\u001b[1;33m\u001b[0m\u001b[0m\n\u001b[1;32m   2194\u001b[0m \u001b[1;33m\u001b[0m\u001b[0m\n",
      "\u001b[0;32mC:\\Program Files\\Anaconda3\\lib\\site-packages\\matplotlib\\ticker.py\u001b[0m in \u001b[0;36mview_limits\u001b[0;34m(self, dmin, dmax)\u001b[0m\n\u001b[1;32m   1450\u001b[0m         dmin, dmax = mtransforms.nonsingular(dmin, dmax, expander=1e-12,\n\u001b[1;32m   1451\u001b[0m                                                         tiny=1.e-13)\n\u001b[0;32m-> 1452\u001b[0;31m         \u001b[1;32mreturn\u001b[0m \u001b[0mnp\u001b[0m\u001b[1;33m.\u001b[0m\u001b[0mtake\u001b[0m\u001b[1;33m(\u001b[0m\u001b[0mself\u001b[0m\u001b[1;33m.\u001b[0m\u001b[0mbin_boundaries\u001b[0m\u001b[1;33m(\u001b[0m\u001b[0mdmin\u001b[0m\u001b[1;33m,\u001b[0m \u001b[0mdmax\u001b[0m\u001b[1;33m)\u001b[0m\u001b[1;33m,\u001b[0m \u001b[1;33m[\u001b[0m\u001b[1;36m0\u001b[0m\u001b[1;33m,\u001b[0m \u001b[1;33m-\u001b[0m\u001b[1;36m1\u001b[0m\u001b[1;33m]\u001b[0m\u001b[1;33m)\u001b[0m\u001b[1;33m\u001b[0m\u001b[0m\n\u001b[0m\u001b[1;32m   1453\u001b[0m \u001b[1;33m\u001b[0m\u001b[0m\n\u001b[1;32m   1454\u001b[0m \u001b[1;33m\u001b[0m\u001b[0m\n",
      "\u001b[0;32mC:\\Program Files\\Anaconda3\\lib\\site-packages\\matplotlib\\ticker.py\u001b[0m in \u001b[0;36mbin_boundaries\u001b[0;34m(self, vmin, vmax)\u001b[0m\n\u001b[1;32m   1422\u001b[0m                 \u001b[1;32mbreak\u001b[0m\u001b[1;33m\u001b[0m\u001b[0m\n\u001b[1;32m   1423\u001b[0m         \u001b[1;32mif\u001b[0m \u001b[0mself\u001b[0m\u001b[1;33m.\u001b[0m\u001b[0m_trim\u001b[0m\u001b[1;33m:\u001b[0m\u001b[1;33m\u001b[0m\u001b[0m\n\u001b[0;32m-> 1424\u001b[0;31m             \u001b[0mextra_bins\u001b[0m \u001b[1;33m=\u001b[0m \u001b[0mint\u001b[0m\u001b[1;33m(\u001b[0m\u001b[0mdivmod\u001b[0m\u001b[1;33m(\u001b[0m\u001b[1;33m(\u001b[0m\u001b[0mbest_vmax\u001b[0m \u001b[1;33m-\u001b[0m \u001b[0mvmax\u001b[0m\u001b[1;33m)\u001b[0m\u001b[1;33m,\u001b[0m \u001b[0mstep\u001b[0m\u001b[1;33m)\u001b[0m\u001b[1;33m[\u001b[0m\u001b[1;36m0\u001b[0m\u001b[1;33m]\u001b[0m\u001b[1;33m)\u001b[0m\u001b[1;33m\u001b[0m\u001b[0m\n\u001b[0m\u001b[1;32m   1425\u001b[0m             \u001b[0mnbins\u001b[0m \u001b[1;33m-=\u001b[0m \u001b[0mextra_bins\u001b[0m\u001b[1;33m\u001b[0m\u001b[0m\n\u001b[1;32m   1426\u001b[0m         \u001b[1;32mreturn\u001b[0m \u001b[1;33m(\u001b[0m\u001b[0mnp\u001b[0m\u001b[1;33m.\u001b[0m\u001b[0marange\u001b[0m\u001b[1;33m(\u001b[0m\u001b[0mnbins\u001b[0m \u001b[1;33m+\u001b[0m \u001b[1;36m1\u001b[0m\u001b[1;33m)\u001b[0m \u001b[1;33m*\u001b[0m \u001b[0mstep\u001b[0m \u001b[1;33m+\u001b[0m \u001b[0mbest_vmin\u001b[0m \u001b[1;33m+\u001b[0m \u001b[0moffset\u001b[0m\u001b[1;33m)\u001b[0m\u001b[1;33m\u001b[0m\u001b[0m\n",
      "\u001b[0;31mValueError\u001b[0m: cannot convert float NaN to integer"
     ]
    }
   ],
   "source": [
    "## - Modules - ##\n",
    "import numpy as np\n",
    "import matplotlib.pyplot as plt\n",
    "\n",
    "## - Constants - ##\n",
    "t_end = 1 # ending time of the simulation (t_start = 0)\n",
    "steps = 100\n",
    "domain = np.linspace(0,t_end,steps)\n",
    "eps = t_end/steps # value of epsilon (the time quantum)\n",
    "epsq = eps*eps # epsilon^2\n",
    "teta0=17\n",
    "petitomega=2\n",
    "omega0=20\n",
    "grandomega=5\n",
    "m=0.225\n",
    "L=0.17\n",
    "J=5\n",
    "alpha = -1*pow(omega0,2)\n",
    "\n",
    "## - Defining functions - ##\n",
    "def g1(t):\n",
    "    return np.cos(petitomega*t)*teta0*(petitomega**2-omega0**2)\n",
    "    \n",
    "def g2(t):\n",
    "    return m*(pow(L,2))*(pow(petitomega,3))*(pow(teta0,3))*np.sin(petitomega*t)/J\n",
    "    \n",
    "def g3(t):\n",
    "    return (1/(grandomega**2-4*petitomega**2))*2*petitomega*(np.cos(grandomega*t)-np.cos(2*petitomega*t))\n",
    "    \n",
    "def g4(t):\n",
    "    return (1/(grandomega**2-petitomega**2))*np.cos(petitomega*t)*(grandomega*np.sin(grandomega*t)-petitomega*np.sin(petitomega*t))\n",
    "def g(t):\n",
    "    # This is the function g(t)*epsilon^2\n",
    "    return g1(t)+g2(t)*(g3(t)+g4(t))\n",
    "\n",
    "g_values = list(map(g, domain)) # these are the values of eps^2 * g(t) that we will need\n",
    "\n",
    "def recSolver(a,b,constants, v_0, v_1):\n",
    "    # solves a recurrence of the type y_(k+1) = ay_k + b_(k-1) + c_k with y_0 = v_0 and y_1 = v_1\n",
    "    values = [v_0, v_1] # initial values\n",
    "    for i in range(2, len(constants)): # iterate from y_2 to y_n, n is the last constant c_n we have\n",
    "        y_next = values[-1]*a + values[-2]*b + epsq*constants[i-1] #computes next value\n",
    "        values.append(y_next) # adds it to the list\n",
    "    return values # return the list of values we found\n",
    "\n",
    "solution = recSolver(2-alpha*epsq, -1,g_values, 0.1, -0.005)\n",
    "#plotting the solution\n",
    "plt.plot(domain, list(map(float,solution)))\n",
    "plt.show()"
   ]
  },
  {
   "cell_type": "code",
   "execution_count": null,
   "metadata": {
    "collapsed": true
   },
   "outputs": [],
   "source": []
  }
 ],
 "metadata": {
  "anaconda-cloud": {},
  "kernelspec": {
   "display_name": "Python [default]",
   "language": "python",
   "name": "python3"
  },
  "language_info": {
   "codemirror_mode": {
    "name": "ipython",
    "version": 3
   },
   "file_extension": ".py",
   "mimetype": "text/x-python",
   "name": "python",
   "nbconvert_exporter": "python",
   "pygments_lexer": "ipython3",
   "version": "3.5.2"
  }
 },
 "nbformat": 4,
 "nbformat_minor": 1
}
