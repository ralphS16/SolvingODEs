{
 "cells": [
  {
   "cell_type": "markdown",
   "metadata": {},
   "source": [
    "# Solving an IVP (again)\n",
    "\n",
    "We are now considering an IVP of a more general form:\n",
    "$$ \\theta'' = f(t,\\theta, \\theta'), \\theta(0) = v_1, \\theta'(0) = v_2.$$\n",
    "This time, we will make no assumption on $f$, it can be any function. The first step is to transform this second order ODE in a first order ODE in two dimensions with a few change of variables:\n",
    "$$y = \\begin{pmatrix}y_1 \\\\ y_2\\end{pmatrix}= \\begin{pmatrix}\\theta \\\\ \\theta'\\end{pmatrix} \\Rightarrow y' = \\begin{pmatrix}y_2\\\\ f(t,y_1,y_2)\\end{pmatrix}$$\n",
    "\n",
    "Then, we use Euler's method to solve it numerically by discretizing the time. If we denote the variable $y^k$ to be the value of $y$ at timestep $k$, Euler's method consists of approximating the next value with the following formula:\n",
    "$$ y^{k+1} = y^{k} + \\varepsilon \\cdot f(y^k),$$\n",
    "where $\\varepsilon$ is the length of the timestep."
   ]
  },
  {
   "cell_type": "code",
   "execution_count": 41,
   "metadata": {
    "collapsed": false
   },
   "outputs": [
    {
     "data": {
      "image/png": "[encoded data removed]",
      "text/plain": [
       "<matplotlib.figure.Figure at 0x1d5755bc3c8>"
      ]
     },
     "metadata": {},
     "output_type": "display_data"
    }
   ],
   "source": [
    "## - Modules - ##\n",
    "import numpy as np\n",
    "import matplotlib.pyplot as plt\n",
    "\n",
    "## - Constants - ##\n",
    "t_end = 40 # ending time of the simulation (t_start = 0)\n",
    "steps = 8000\n",
    "domain = np.linspace(0,t_end,steps)\n",
    "eps = t_end/steps # value of epsilon (the time quantum)\n",
    "epsq = eps*eps # epsilon^2\n",
    "g = 9.8\n",
    "ell = 8.69\n",
    "mu = 1.29\n",
    "Cx = 0.7\n",
    "m = 12000\n",
    "k = 2.5\n",
    "alpha = g/ell\n",
    "v_1 = 0 #initial value theta(0)\n",
    "v_2 = 0.5 #initial value theta'(0)\n",
    "\n",
    "## - Defining functions - ##\n",
    "def S(t):\n",
    "    # Surfact of cabin that is exposed to wind\n",
    "    return 15.63\n",
    "def v2(t):\n",
    "    # Speed of wind\n",
    "    return 30\n",
    "def Fx(t):\n",
    "    #This is the function Fx:\n",
    "    return 0.5*mu*S(t)*v2(t)*Cx \n",
    "def lengthSpring(t):\n",
    "    #This is the length of the spring:\n",
    "    return (np.sin(20*t)+1)*5\n",
    "    \n",
    "def fct(t,theta, thetaP):\n",
    "    #Function that takes t, theta and theta' to compute theta''\n",
    "    return (Fx(t)*np.cos(theta)-m*g*np.sin(theta)+k*(lengthSpring(t)-lengthSpring(0))*np.cos(theta))/ell\n",
    "\n",
    "## - Solving - ##  \n",
    "y = [np.array((v_1,v_2))] # this is y^0\n",
    "for k in range(0,steps-1): # We do this as many times as the interval is divided\n",
    "    y_next = y[-1] + np.array((eps*y[-1][1], eps*fct(k*eps, y[-1][0], y[-1][1]))) # Euler's method to calculate next y\n",
    "    y.append(y_next) # add this value to the array\n",
    "\n",
    "solution = [x[0] for x in y] # Only interested in the first value theta\n",
    "#plotting the solution\n",
    "plt.plot(domain, solution)\n",
    "plt.show()"
   ]
  },
  {
   "cell_type": "code",
   "execution_count": null,
   "metadata": {
    "collapsed": true
   },
   "outputs": [],
   "source": []
  }
 ],
 "metadata": {
  "anaconda-cloud": {},
  "kernelspec": {
   "display_name": "Python [default]",
   "language": "python",
   "name": "python3"
  },
  "language_info": {
   "codemirror_mode": {
    "name": "ipython",
    "version": 3
   },
   "file_extension": ".py",
   "mimetype": "text/x-python",
   "name": "python",
   "nbconvert_exporter": "python",
   "pygments_lexer": "ipython3",
   "version": "3.5.2"
  }
 },
 "nbformat": 4,
 "nbformat_minor": 1
}
